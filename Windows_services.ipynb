{
 "cells": [
  {
   "cell_type": "markdown",
   "id": "37df75c9-8a9c-4e12-bca2-a3727147536b",
   "metadata": {},
   "source": [
    "## Starting and stopping the windows services with python"
   ]
  },
  {
   "cell_type": "code",
   "execution_count": 4,
   "id": "becb35fb",
   "metadata": {},
   "outputs": [],
   "source": [
    "import os\n",
    "import win32serviceutil as win32"
   ]
  },
  {
   "cell_type": "code",
   "execution_count": 2,
   "id": "b19dff4e",
   "metadata": {},
   "outputs": [],
   "source": [
    "service = \"ping_test1\""
   ]
  },
  {
   "cell_type": "code",
   "execution_count": null,
   "id": "41f04af9",
   "metadata": {
    "scrolled": true
   },
   "outputs": [],
   "source": [
    "win32.StartService(service)"
   ]
  },
  {
   "cell_type": "code",
   "execution_count": 7,
   "id": "2815e1f1",
   "metadata": {
    "scrolled": true
   },
   "outputs": [
    {
     "data": {
      "text/plain": [
       "0"
      ]
     },
     "execution_count": 7,
     "metadata": {},
     "output_type": "execute_result"
    }
   ],
   "source": [
    "os.system('cmd /k \"schtasks /run /tn test_1\"')"
   ]
  },
  {
   "cell_type": "code",
   "execution_count": null,
   "id": "feb46bff",
   "metadata": {},
   "outputs": [],
   "source": []
  }
 ],
 "metadata": {
  "kernelspec": {
   "display_name": "Python 3 (ipykernel)",
   "language": "python",
   "name": "python3"
  },
  "language_info": {
   "codemirror_mode": {
    "name": "ipython",
    "version": 3
   },
   "file_extension": ".py",
   "mimetype": "text/x-python",
   "name": "python",
   "nbconvert_exporter": "python",
   "pygments_lexer": "ipython3",
   "version": "3.9.7"
  }
 },
 "nbformat": 4,
 "nbformat_minor": 5
}
